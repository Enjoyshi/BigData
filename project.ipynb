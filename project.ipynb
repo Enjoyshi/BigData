{
 "cells": [
  {
   "cell_type": "markdown",
   "id": "e6769f06",
   "metadata": {},
   "source": [
    "# Spark Project"
   ]
  },
  {
   "cell_type": "markdown",
   "id": "ff087fa7",
   "metadata": {},
   "source": [
    "Spark project\n",
    "\n",
    "author(s): Hao Ye UID: 23376; Pierre-Louis Landouzi"
   ]
  },
  {
   "cell_type": "code",
   "execution_count": 1,
   "id": "e3d6ec5d",
   "metadata": {},
   "outputs": [],
   "source": [
    "from pyspark.sql import SparkSession\n",
    "from pyspark.sql.types import *\n",
    "from pyspark.sql.window import Window\n",
    "from pyspark.sql import functions\n",
    "from pyspark.sql.functions import udf, isnan, when, count, col\n",
    "import pandas as pd\n",
    "import numpy as np\n",
    "import matplotlib.pyplot as plt\n",
    "from pyspark.ml.feature import VectorAssembler\n",
    "from pyspark.ml.stat import Correlation"
   ]
  },
  {
   "cell_type": "code",
   "execution_count": 2,
   "id": "1a24d5c2",
   "metadata": {},
   "outputs": [
    {
     "name": "stderr",
     "output_type": "stream",
     "text": [
      "22/05/12 10:21:34 WARN Utils: Your hostname, MacBook-Air-de-Hao.local resolves to a loopback address: 127.0.0.1; using 192.168.0.33 instead (on interface en0)\n",
      "22/05/12 10:21:34 WARN Utils: Set SPARK_LOCAL_IP if you need to bind to another address\n",
      "WARNING: An illegal reflective access operation has occurred\n",
      "WARNING: Illegal reflective access by org.apache.spark.unsafe.Platform (file:/opt/homebrew/lib/python3.9/site-packages/pyspark/jars/spark-unsafe_2.12-3.2.1.jar) to constructor java.nio.DirectByteBuffer(long,int)\n",
      "WARNING: Please consider reporting this to the maintainers of org.apache.spark.unsafe.Platform\n",
      "WARNING: Use --illegal-access=warn to enable warnings of further illegal reflective access operations\n",
      "WARNING: All illegal access operations will be denied in a future release\n",
      "Using Spark's default log4j profile: org/apache/spark/log4j-defaults.properties\n",
      "Setting default log level to \"WARN\".\n",
      "To adjust logging level use sc.setLogLevel(newLevel). For SparkR, use setLogLevel(newLevel).\n",
      "22/05/12 10:21:34 WARN NativeCodeLoader: Unable to load native-hadoop library for your platform... using builtin-java classes where applicable\n"
     ]
    }
   ],
   "source": [
    "spark_application_name = \"Spark_Project\"\n",
    "spark = (SparkSession.builder.appName(spark_application_name).getOrCreate())"
   ]
  },
  {
   "cell_type": "code",
   "execution_count": 3,
   "id": "f1c6c98f",
   "metadata": {},
   "outputs": [],
   "source": [
    "stocks_path = 'stocks_data/MICROSOFT.csv'"
   ]
  },
  {
   "cell_type": "markdown",
   "id": "0e2deae5",
   "metadata": {},
   "source": [
    "### Read Data function"
   ]
  },
  {
   "cell_type": "code",
   "execution_count": 4,
   "id": "f2eb62c2",
   "metadata": {},
   "outputs": [],
   "source": [
    "def get_data(path, schema, header=True, delimiter=';'):\n",
    "    \"\"\"Lire les données à partir d'un path.\n",
    "\n",
    "    Parameters\n",
    "    ----------\n",
    "    path : string\n",
    "        Le chemin du fichier\n",
    "    schema : StructType\n",
    "        Le schema appliqué sur le dataframe\n",
    "    header: bool\n",
    "        Le boolean qui indique l'utilisation de la première ligne comme noms de colonnes. True par défaut\n",
    "    delimiter: \n",
    "        Définit un séparateur pour chaque champ et chaque valeur. ; par défaut\n",
    "    Returns\n",
    "    -------\n",
    "    DataFrame\n",
    "        Le DataFrame du fichier\n",
    "    \"\"\"\n",
    "    \n",
    "    extension = path.split('.')[-1]\n",
    "    if (extension == \"csv\"):\n",
    "        df = spark.read.csv(path, schema, header=header, sep=delimiter)\n",
    "    elif (extension == 'json'):\n",
    "        df = spark.read.json(path, schema)\n",
    "    else:\n",
    "        # join all csv in a folder\n",
    "        df = spark.read.csv(path, schema, header=header, sep=delimiter)\n",
    "    return df\n"
   ]
  },
  {
   "cell_type": "code",
   "execution_count": 5,
   "id": "76aa75d7",
   "metadata": {},
   "outputs": [
    {
     "name": "stdout",
     "output_type": "stream",
     "text": [
      "+-------------------+------------------+------------------+------------------+------------------+---------+------------------+------------+\n",
      "|               Date|              High|               Low|              Open|             Close|   Volume|         Adj Close|company_name|\n",
      "+-------------------+------------------+------------------+------------------+------------------+---------+------------------+------------+\n",
      "|2017-01-03 00:00:00| 62.84000015258789|62.130001068115234|62.790000915527344| 62.58000183105469|2.06941E7| 58.67324447631836|   MICROSOFT|\n",
      "|2017-01-04 00:00:00|             62.75|62.119998931884766| 62.47999954223633| 62.29999923706055|  2.134E7| 58.41072463989258|   MICROSOFT|\n",
      "|2017-01-05 00:00:00| 62.65999984741211|62.029998779296875|62.189998626708984| 62.29999923706055| 2.4876E7| 58.41072463989258|   MICROSOFT|\n",
      "|2017-01-06 00:00:00|63.150001525878906|62.040000915527344| 62.29999923706055| 62.84000015258789|1.99229E7|58.917015075683594|   MICROSOFT|\n",
      "|2017-01-09 00:00:00| 63.08000183105469|62.540000915527344|  62.7599983215332| 62.63999938964844|2.03827E7|58.729496002197266|   MICROSOFT|\n",
      "|2017-01-10 00:00:00| 63.06999969482422|62.279998779296875| 62.72999954223633|62.619998931884766| 1.8593E7| 58.71074676513672|   MICROSOFT|\n",
      "|2017-01-11 00:00:00| 63.22999954223633| 62.43000030517578| 62.61000061035156|63.189998626708984|2.15173E7| 59.24515914916992|   MICROSOFT|\n",
      "|2017-01-12 00:00:00|63.400001525878906| 61.95000076293945|63.060001373291016| 62.61000061035156|2.09682E7| 58.70137023925781|   MICROSOFT|\n",
      "|2017-01-13 00:00:00|62.869998931884766|62.349998474121094|62.619998931884766| 62.70000076293945|1.94223E7|  58.7857551574707|   MICROSOFT|\n",
      "|2017-01-17 00:00:00| 62.70000076293945|62.029998779296875| 62.68000030517578|62.529998779296875| 2.0664E7| 58.62636947631836|   MICROSOFT|\n",
      "|2017-01-18 00:00:00| 62.70000076293945|62.119998931884766| 62.66999816894531|              62.5|1.96701E7| 58.59824752807617|   MICROSOFT|\n",
      "|2017-01-19 00:00:00| 62.97999954223633| 62.20000076293945|  62.2400016784668| 62.29999923706055|1.84517E7| 58.41072463989258|   MICROSOFT|\n",
      "|2017-01-20 00:00:00| 62.81999969482422|62.369998931884766| 62.66999816894531|  62.7400016784668|3.02135E7| 58.82326126098633|   MICROSOFT|\n",
      "|2017-01-23 00:00:00|63.119998931884766| 62.56999969482422| 62.70000076293945|62.959999084472656|2.30976E7| 59.02952575683594|   MICROSOFT|\n",
      "|2017-01-24 00:00:00|  63.7400016784668|62.939998626708984| 63.20000076293945| 63.52000045776367|2.46729E7|59.554569244384766|   MICROSOFT|\n",
      "|2017-01-25 00:00:00|  64.0999984741211| 63.45000076293945| 63.95000076293945| 63.68000030517578|2.36727E7| 59.70457458496094|   MICROSOFT|\n",
      "|2017-01-26 00:00:00| 64.54000091552734| 63.54999923706055| 64.12000274658203|  64.2699966430664|4.35546E7| 60.25773620605469|   MICROSOFT|\n",
      "|2017-01-27 00:00:00| 65.91000366210938| 64.88999938964844| 65.38999938964844| 65.77999877929688| 4.4818E7| 61.67348098754883|   MICROSOFT|\n",
      "|2017-01-30 00:00:00| 65.79000091552734| 64.80000305175781| 65.69000244140625| 65.12999725341797|3.16514E7| 61.06404495239258|   MICROSOFT|\n",
      "|2017-01-31 00:00:00|  65.1500015258789| 64.26000213623047| 64.86000061035156|  64.6500015258789|2.52705E7| 60.61402130126953|   MICROSOFT|\n",
      "+-------------------+------------------+------------------+------------------+------------------+---------+------------------+------------+\n",
      "only showing top 20 rows\n",
      "\n"
     ]
    }
   ],
   "source": [
    "# Define schema\n",
    "stocksColumns = [StructField(\"Date\",TimestampType()), StructField(\"High\",DoubleType()), \n",
    "              StructField(\"Low\",DoubleType()), StructField(\"Open\",DoubleType()),\n",
    "              StructField(\"Close\",DoubleType()), StructField(\"Volume\", DoubleType()), \n",
    "              StructField(\"Adj Close\",DoubleType()), StructField(\"company_name\", StringType())]\n",
    "\n",
    "stocksSchema = StructType(stocksColumns)\n",
    "\n",
    "\n",
    "df = get_data(stocks_path, stocksSchema, delimiter=',')\n",
    "df.show()"
   ]
  },
  {
   "cell_type": "code",
   "execution_count": 6,
   "id": "3001b7db",
   "metadata": {},
   "outputs": [],
   "source": [
    "def show_first_rows(df):\n",
    "    \"\"\"Afficher les 40 permières lignes d'un dataframe.\n",
    "\n",
    "    Parameters\n",
    "    ----------\n",
    "    df : DataFrame\n",
    "    \n",
    "    Returns\n",
    "    -------\n",
    "        Void\n",
    "    \"\"\"\n",
    "    df.show(40)"
   ]
  },
  {
   "cell_type": "code",
   "execution_count": 7,
   "id": "e70ec04f",
   "metadata": {},
   "outputs": [],
   "source": [
    "def show_last_rows(df):\n",
    "    \"\"\"Afficher les 40 dernières lignes d'un dataframe.\n",
    "\n",
    "    Parameters\n",
    "    ----------\n",
    "    df : DataFrame\n",
    "    \n",
    "    Returns\n",
    "    -------\n",
    "        Void\n",
    "    \"\"\"\n",
    "    spark.createDataFrame(df.tail(40)).show()"
   ]
  },
  {
   "cell_type": "code",
   "execution_count": 8,
   "id": "7a719e6d",
   "metadata": {},
   "outputs": [],
   "source": [
    "def get_num_rows(df):\n",
    "    \"\"\"Afficher le nombres de lignes d'un dataframe.\n",
    "\n",
    "    Parameters\n",
    "    ----------\n",
    "    df : DataFrame\n",
    "    \n",
    "    Returns\n",
    "    -------\n",
    "        Void\n",
    "    \"\"\"\n",
    "    print('Number of rows: ' + str(df.count()))"
   ]
  },
  {
   "cell_type": "code",
   "execution_count": 9,
   "id": "d86c57d1",
   "metadata": {},
   "outputs": [],
   "source": [
    "def days_to_period(nb_days):\n",
    "    if (nb_days > 365):\n",
    "        return 'year'\n",
    "    elif (nb_days > 28):\n",
    "        return 'month'\n",
    "    elif (nb_days > 7):\n",
    "        return \"week\"\n",
    "    else:\n",
    "        return 'day'\n",
    "\n",
    "def get_period(df):\n",
    "    \"\"\"Afficher la période d'un dataframe\n",
    "\n",
    "    Parameters\n",
    "    ----------\n",
    "    df : DataFrame\n",
    "    \n",
    "    Returns\n",
    "    -------\n",
    "        Void\n",
    "    \"\"\"\n",
    "    df = df.select(\"Date\")\n",
    "    # Create a by 1 shift column \n",
    "    my_window = Window.partitionBy().orderBy(\"Date\")\n",
    "    # Assign on prev_date column\n",
    "    df = df.withColumn(\"prev_date\", functions.lag(df.Date).over(my_window))\n",
    "    # Compute diff between Date column and prev_date column and save on delta column\n",
    "    df = df.withColumn(\"delta\", functions.when(functions.isnull(df['Date'].cast(\"long\") - df['prev_date'].cast('long')), 0)\n",
    "                              .otherwise(df['Date'].cast('long') - df['prev_date'].cast('long')))\n",
    "    # Compute diff in days\n",
    "    df = df.withColumn(\"delta_days\" , df['delta']/(24*3600))\n",
    "    # Transform function to udf, just like .apply in pandas\n",
    "    udf_days_to_period = udf(lambda x:days_to_period(x),StringType())\n",
    "    \n",
    "    # Compute the period according to days\n",
    "    df = df.withColumn(\"period\", udf_days_to_period(df['delta_days']))\n",
    "    \n",
    "    df = df.groupBy(\"period\").count()\n",
    "    df = df.sort(df[\"count\"].desc())\n",
    "    X = df.collect()[0][0]\n",
    "    print('The period is a ' + str(X) + ' period')"
   ]
  },
  {
   "cell_type": "code",
   "execution_count": 10,
   "id": "11b41c6e",
   "metadata": {},
   "outputs": [
    {
     "name": "stderr",
     "output_type": "stream",
     "text": [
      "22/05/12 10:21:37 WARN WindowExec: No Partition Defined for Window operation! Moving all data to a single partition, this can cause serious performance degradation.\n",
      "22/05/12 10:21:38 WARN WindowExec: No Partition Defined for Window operation! Moving all data to a single partition, this can cause serious performance degradation.\n"
     ]
    },
    {
     "name": "stdout",
     "output_type": "stream",
     "text": [
      "The period is a day period\n"
     ]
    }
   ],
   "source": [
    "get_period(df)"
   ]
  },
  {
   "cell_type": "code",
   "execution_count": 11,
   "id": "ca4ee8c7",
   "metadata": {},
   "outputs": [],
   "source": [
    "def get_stats(df):\n",
    "    \"\"\"Afficher les statistiques de base d'un dataframe\n",
    "\n",
    "    Parameters\n",
    "    ----------\n",
    "    df : DataFrame\n",
    "    \n",
    "    Returns\n",
    "    -------\n",
    "        Void\n",
    "    \"\"\"\n",
    "    df.describe().show()"
   ]
  },
  {
   "cell_type": "code",
   "execution_count": 12,
   "id": "1078e68c",
   "metadata": {},
   "outputs": [
    {
     "name": "stdout",
     "output_type": "stream",
     "text": [
      "+-------+------------------+------------------+------------------+------------------+--------------------+------------------+------------+\n",
      "|summary|              High|               Low|              Open|             Close|              Volume|         Adj Close|company_name|\n",
      "+-------+------------------+------------------+------------------+------------------+--------------------+------------------+------------+\n",
      "|  count|               987|               987|               987|               987|                 987|               987|         987|\n",
      "|   mean|123.52858665334901|121.02308006634466|122.32611970601957|122.34503256924367|2.9104952561296858E7|119.77032003045203|        null|\n",
      "| stddev| 46.40416482581066|45.038031013567725| 45.73307377448831| 45.74600811823214|1.3627194702253582E7| 46.76978863281242|        null|\n",
      "|    min| 62.65999984741211| 61.95000076293945|62.189998626708984| 62.29999923706055|           6486678.0| 58.41072463989258|   MICROSOFT|\n",
      "|    max|232.86000061035156|227.35000610351562|229.27000427246094|231.64999389648438|          1.112421E8|231.04510498046875|   MICROSOFT|\n",
      "+-------+------------------+------------------+------------------+------------------+--------------------+------------------+------------+\n",
      "\n"
     ]
    }
   ],
   "source": [
    "get_stats(df)"
   ]
  },
  {
   "cell_type": "code",
   "execution_count": 13,
   "id": "4921ebbd",
   "metadata": {},
   "outputs": [],
   "source": [
    "def get_na(df):\n",
    "    \"\"\"Afficher le nombre de valeur manquante pour chaque colonne\n",
    "\n",
    "    Parameters\n",
    "    ----------\n",
    "    df : DataFrame\n",
    "    \n",
    "    Returns\n",
    "    -------\n",
    "        Void\n",
    "    \"\"\"\n",
    "    # Cast timestamp to long for check null\n",
    "    df2 = df.withColumn(\"Date_long\", df['Date'].cast('long'))\n",
    "    df2 = df2.drop(df2['Date'])\n",
    "    df2 = df2.select([count(when(col(c).contains('None') | \\\n",
    "                            col(c).contains('NULL') | \\\n",
    "                            (col(c) == '' ) | \\\n",
    "                            col(c).isNull() | \\\n",
    "                            isnan(c), c \n",
    "                           )).alias(c)\n",
    "                    for c in df2.columns])\n",
    "    df2.show()"
   ]
  },
  {
   "cell_type": "code",
   "execution_count": 14,
   "id": "b3e2a2f7",
   "metadata": {},
   "outputs": [
    {
     "name": "stdout",
     "output_type": "stream",
     "text": [
      "+----+---+----+-----+------+---------+------------+---------+\n",
      "|High|Low|Open|Close|Volume|Adj Close|company_name|Date_long|\n",
      "+----+---+----+-----+------+---------+------------+---------+\n",
      "|   0|  0|   0|    0|     0|        0|           0|        0|\n",
      "+----+---+----+-----+------+---------+------------+---------+\n",
      "\n"
     ]
    }
   ],
   "source": [
    "get_na(df)"
   ]
  },
  {
   "cell_type": "code",
   "execution_count": 15,
   "id": "5f2d388a",
   "metadata": {},
   "outputs": [],
   "source": [
    "def plot_corr(df):\n",
    "    \"\"\"Dessiner la matrice de corrélation\n",
    "\n",
    "    Parameters\n",
    "    ----------\n",
    "    df : DataFrame\n",
    "    \n",
    "    Returns\n",
    "    -------\n",
    "        Void\n",
    "    \"\"\"\n",
    "    df = df.drop(*('Date', 'company_name'))\n",
    "    columns = df.columns\n",
    "    vector_col = \"corr_features\"\n",
    "    assembler = VectorAssembler(inputCols=columns, \n",
    "                            outputCol=vector_col)\n",
    "    myGraph_vector = assembler.transform(df).select(vector_col)\n",
    "    \n",
    "    matrix = Correlation.corr(myGraph_vector, vector_col).collect()[0][0]\n",
    "    corrmatrix = matrix.toArray().tolist()\n",
    "\n",
    "    \n",
    "    fig=plt.figure()\n",
    "    ax=fig.add_subplot(111)\n",
    "    ax.set_title(\"Correlation Matrix\")\n",
    "    ax.set_xticklabels(['']+columns)\n",
    "    ax.set_yticklabels(['']+columns)\n",
    "    cax=ax.matshow(corrmatrix,vmax=1,vmin=-1)\n",
    "    fig.colorbar(cax)\n",
    "    plt.show()"
   ]
  },
  {
   "cell_type": "code",
   "execution_count": 16,
   "id": "b0d1df46",
   "metadata": {},
   "outputs": [
    {
     "name": "stderr",
     "output_type": "stream",
     "text": [
      "22/05/12 10:21:40 WARN InstanceBuilder$NativeBLAS: Failed to load implementation from:dev.ludovic.netlib.blas.JNIBLAS\n",
      "22/05/12 10:21:40 WARN InstanceBuilder$NativeBLAS: Failed to load implementation from:dev.ludovic.netlib.blas.ForeignLinkerBLAS\n",
      "/opt/homebrew/lib/python3.9/site-packages/pyspark/sql/context.py:125: FutureWarning: Deprecated in 3.0.0. Use SparkSession.builder.getOrCreate() instead.\n",
      "  warnings.warn(\n",
      "/var/folders/20/t1flkcns5419tjpzt_pg4vv40000gn/T/ipykernel_9840/2972400243.py:26: UserWarning: FixedFormatter should only be used together with FixedLocator\n",
      "  ax.set_xticklabels(['']+columns)\n",
      "/var/folders/20/t1flkcns5419tjpzt_pg4vv40000gn/T/ipykernel_9840/2972400243.py:27: UserWarning: FixedFormatter should only be used together with FixedLocator\n",
      "  ax.set_yticklabels(['']+columns)\n"
     ]
    },
    {
     "data": {
      "image/png": "[encoded data removed]",
      "text/plain": [
       "<Figure size 432x288 with 2 Axes>"
      ]
     },
     "metadata": {
      "needs_background": "light"
     },
     "output_type": "display_data"
    }
   ],
   "source": [
    "plot_corr(df)"
   ]
  },
  {
   "cell_type": "code",
   "execution_count": 30,
   "id": "b536798e",
   "metadata": {},
   "outputs": [],
   "source": [
    "def get_period_avg(df, period='week'):\n",
    "    \"\"\"Avoir la moyenne d'une period\n",
    "\n",
    "    Parameters\n",
    "    ----------\n",
    "    df : DataFrame\n",
    "    \n",
    "    period : string\n",
    "        la period pour la moyenne, par défaut week\n",
    "    Returns\n",
    "    -------\n",
    "        DataFrame\n",
    "    \"\"\"\n",
    "    \n",
    "    df_pd = df.toPandas()\n",
    "    if (period == 'week'):\n",
    "        df_pd['Date'] = pd.to_datetime(df_pd['Date']) - pd.to_timedelta(7, unit='d')\n",
    "        df_pd = df_pd.groupby(pd.Grouper(key='Date', freq='W-MON'))[['Open', 'Close']].mean().reset_index()\n",
    "        df_pd.columns = ['Date', 'weekly_avg_open', 'weekly_avg_close']\n",
    "    elif (period == 'month'):\n",
    "        df_pd = df_pd.groupby(pd.Grouper(key='Date', freq='M'))[['Open', 'Close']].mean().reset_index()\n",
    "        df_pd.columns = ['Date', 'monthly_avg_open', 'monthly_avg_close']\n",
    "    elif (period == 'year'):\n",
    "        df_pd = df_pd.groupby(pd.Grouper(key='Date', freq='Y'))[['Open', 'Close']].mean().reset_index()\n",
    "        df_pd.columns = ['Date', 'annualy_avg_open', 'annualy_avg_close']\n",
    "    else:\n",
    "        raise ValueError(\"Incorrect period format, expected week, month or year\")\n",
    "        \n",
    "    # Maybe plot a graph ?\n",
    "    return spark.createDataFrame(df_pd)"
   ]
  },
  {
   "cell_type": "code",
   "execution_count": 34,
   "id": "49cae0f2",
   "metadata": {},
   "outputs": [
    {
     "name": "stdout",
     "output_type": "stream",
     "text": [
      "+-------------------+------------------+------------------+\n",
      "|               Date|  annualy_avg_open| annualy_avg_close|\n",
      "+-------------------+------------------+------------------+\n",
      "|2017-12-31 00:00:00| 71.95430287516925| 71.98402421502954|\n",
      "|2018-12-31 00:00:00|101.12235092831799|101.03398411967365|\n",
      "|2019-12-31 00:00:00|130.33904787093874|130.38202400813026|\n",
      "|2020-12-31 00:00:00|190.76480678836674| 190.8616180419922|\n",
      "+-------------------+------------------+------------------+\n",
      "\n"
     ]
    }
   ],
   "source": [
    "df_pd = get_period_avg(df, 'year')\n",
    "df_pd.show()"
   ]
  },
  {
   "cell_type": "code",
   "execution_count": 87,
   "id": "5071b9d5",
   "metadata": {},
   "outputs": [],
   "source": [
    "def get_evolution(df, period='day'):\n",
    "    \"\"\"Avoir l'évolution du prix \n",
    "\n",
    "    Parameters\n",
    "    ----------\n",
    "    df : DataFrame\n",
    "    \n",
    "    period : string\n",
    "        l'échelle de l'évolution, par défaut week\n",
    "    Returns\n",
    "    -------\n",
    "        DataFrame\n",
    "    \"\"\"\n",
    "    w = Window.partitionBy().orderBy(\"Date\")\n",
    "    if (period == 'day'): \n",
    "        df_prev = df.withColumn('prev_high', functions.lag(df['High']).over(w)) \\\n",
    "                    .withColumn('prev_low', functions.lag(df['Low']).over(w)) \\\n",
    "                    .withColumn('prev_open', functions.lag(df['Open']).over(w)) \\\n",
    "                    .withColumn('prev_close', functions.lag(df['Close']).over(w))\n",
    "    \n",
    "    elif (period == 'month'):\n",
    "        df_pd = df.toPandas()\n",
    "        df_pd = df_pd.groupby(pd.Grouper(key='Date', freq='M'))[['High', 'Low', 'Open', 'Close']].sum().reset_index()\n",
    "        df_group_by_month = spark.createDataFrame(df_pd)\n",
    "        \n",
    "        df_group_by_month.printSchema()\n",
    "        df_prev = df_group_by_month.withColumn('prev_high', functions.lag(df_group_by_month['High']).over(w)) \\\n",
    "                    .withColumn('prev_low', functions.lag(df_group_by_month['Low']).over(w)) \\\n",
    "                    .withColumn('prev_open', functions.lag(df_group_by_month['Open']).over(w)) \\\n",
    "                    .withColumn('prev_close', functions.lag(df_group_by_month['Close']).over(w))\n",
    "    else:\n",
    "        raise ValueError(\"Incorrect period format, expected day, month\")\n",
    "        \n",
    "    result_df = df_prev.withColumn('delta_high', df_prev['High'] - df_prev['prev_high']) \\\n",
    "                   .withColumn('delta_low', df_prev['Low'] - df_prev['prev_low']) \\\n",
    "                   .withColumn('delta_open', df_prev['Open'] - df_prev['prev_open']) \\\n",
    "                   .withColumn('delta_close', df_prev['Close'] - df_prev['prev_close']) \\\n",
    "                   .select('Date', 'delta_high', 'delta_low', 'delta_open', 'delta_close')\n",
    "    \n",
    "    return result_df"
   ]
  },
  {
   "cell_type": "code",
   "execution_count": 88,
   "id": "77789de2",
   "metadata": {},
   "outputs": [
    {
     "name": "stdout",
     "output_type": "stream",
     "text": [
      "root\n",
      " |-- Date: timestamp (nullable = true)\n",
      " |-- High: double (nullable = true)\n",
      " |-- Low: double (nullable = true)\n",
      " |-- Open: double (nullable = true)\n",
      " |-- Close: double (nullable = true)\n",
      "\n",
      "+-------------------+-------------------+-------------------+-------------------+-------------------+\n",
      "|               Date|         delta_high|          delta_low|         delta_open|        delta_close|\n",
      "+-------------------+-------------------+-------------------+-------------------+-------------------+\n",
      "|2017-01-31 00:00:00|               null|               null|               null|               null|\n",
      "|2017-02-28 00:00:00| -47.19999694824219| -43.17999267578125| -45.14999771118164|-45.679988861083984|\n",
      "|2017-03-31 00:00:00|  275.0299873352051|  270.3399963378906| 271.02002334594727|  273.1900100708008|\n",
      "|2017-04-30 00:00:00|-234.58000946044922|-231.86999130249023|-231.04001998901367|-234.09000396728516|\n",
      "|2017-05-31 00:00:00|   258.760009765625| 255.37997436523438| 255.68000030517578|  258.9199981689453|\n",
      "|2017-06-30 00:00:00| 39.709991455078125| 30.659996032714844| 38.139991760253906|  35.21998596191406|\n",
      "|2017-07-31 00:00:00|-114.06000518798828|-107.55998992919922|-115.49000549316406|-111.18998718261719|\n",
      "|2017-08-31 00:00:00| 235.25000762939453|  233.7400131225586| 235.58999633789062| 234.58001708984375|\n",
      "|2017-09-30 00:00:00| -187.7899932861328|-184.74002075195312|-185.14999389648438|-187.90000915527344|\n",
      "|2017-10-31 00:00:00|  227.9699935913086| 227.84002685546875|  226.3399887084961| 227.77999114990234|\n",
      "|2017-11-30 00:00:00| 42.159996032714844|  40.66999816894531|  42.90001678466797| 43.399993896484375|\n",
      "|2017-12-31 00:00:00| -57.65998077392578| -63.06000518798828| -59.83000946044922|-62.899993896484375|\n",
      "|2018-01-31 00:00:00| 195.62000274658203| 193.54000854492188| 192.58000946044922|  196.4099884033203|\n",
      "|2018-02-28 00:00:00|-141.26002502441406| -165.8300018310547|-151.99000549316406|-155.58999633789062|\n",
      "|2018-03-31 00:00:00| 215.92001342773438| 218.62000274658203| 220.52999877929688| 214.88999938964844|\n",
      "|2018-04-30 00:00:00| 5.4400177001953125| 3.7099990844726562|  6.310020446777344|  6.629997253417969|\n",
      "|2018-05-31 00:00:00|  161.8699951171875| 178.18999481201172| 161.76998138427734| 176.08000946044922|\n",
      "|2018-06-30 00:00:00|-17.790023803710938|-14.490013122558594|-11.939979553222656|-21.790008544921875|\n",
      "|2018-07-31 00:00:00|  86.58000183105469|  79.95999908447266|  82.31999206542969|  85.61003875732422|\n",
      "|2018-08-31 00:00:00| 297.11000061035156|  303.5999984741211|  298.1399841308594|  302.3299560546875|\n",
      "+-------------------+-------------------+-------------------+-------------------+-------------------+\n",
      "only showing top 20 rows\n",
      "\n"
     ]
    },
    {
     "name": "stderr",
     "output_type": "stream",
     "text": [
      "22/05/12 12:16:18 WARN WindowExec: No Partition Defined for Window operation! Moving all data to a single partition, this can cause serious performance degradation.\n",
      "22/05/12 12:16:18 WARN WindowExec: No Partition Defined for Window operation! Moving all data to a single partition, this can cause serious performance degradation.\n",
      "22/05/12 12:16:18 WARN WindowExec: No Partition Defined for Window operation! Moving all data to a single partition, this can cause serious performance degradation.\n"
     ]
    }
   ],
   "source": [
    "df_evol = get_evolution(df, 'month')\n",
    "df_evol.show()"
   ]
  },
  {
   "cell_type": "code",
   "execution_count": null,
   "id": "04a434d5",
   "metadata": {},
   "outputs": [],
   "source": []
  },
  {
   "cell_type": "code",
   "execution_count": null,
   "id": "50d15b4f",
   "metadata": {},
   "outputs": [],
   "source": []
  }
 ],
 "metadata": {
  "kernelspec": {
   "display_name": "Python 3 (ipykernel)",
   "language": "python",
   "name": "python3"
  },
  "language_info": {
   "codemirror_mode": {
    "name": "ipython",
    "version": 3
   },
   "file_extension": ".py",
   "mimetype": "text/x-python",
   "name": "python",
   "nbconvert_exporter": "python",
   "pygments_lexer": "ipython3",
   "version": "3.9.12"
  }
 },
 "nbformat": 4,
 "nbformat_minor": 5
}
