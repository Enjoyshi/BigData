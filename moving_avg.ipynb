{
 "cells": [
  {
   "cell_type": "code",
   "execution_count": 1,
   "id": "1535993a",
   "metadata": {},
   "outputs": [],
   "source": [
    "from pyspark.sql import SparkSession\n",
    "from pyspark.sql.types import *\n",
    "from pyspark.sql.window import Window\n",
    "from pyspark.sql import functions \n",
    "from pyspark.sql.functions import udf, isnan, when, count, col\n",
    "import pandas as pd\n",
    "import numpy as np\n",
    "import matplotlib.pyplot as plt\n",
    "from pyspark.ml.feature import VectorAssembler\n",
    "from pyspark.ml.stat import Correlation"
   ]
  },
  {
   "cell_type": "code",
   "execution_count": 2,
   "id": "cefb4927",
   "metadata": {},
   "outputs": [
    {
     "name": "stderr",
     "output_type": "stream",
     "text": [
      "Using Spark's default log4j profile: org/apache/spark/log4j-defaults.properties\n",
      "Setting default log level to \"WARN\".\n",
      "To adjust logging level use sc.setLogLevel(newLevel). For SparkR, use setLogLevel(newLevel).\n",
      "22/05/11 18:38:49 WARN NativeCodeLoader: Unable to load native-hadoop library for your platform... using builtin-java classes where applicable\n"
     ]
    }
   ],
   "source": [
    "spark_application_name = \"Spark_Project\"\n",
    "spark = (SparkSession.builder.appName(spark_application_name).getOrCreate())"
   ]
  },
  {
   "cell_type": "code",
   "execution_count": 3,
   "id": "12839f61",
   "metadata": {},
   "outputs": [],
   "source": [
    "stocks_path = 'stocks_data/MICROSOFT.csv'"
   ]
  },
  {
   "cell_type": "code",
   "execution_count": 4,
   "id": "8edaab9d",
   "metadata": {},
   "outputs": [],
   "source": [
    "df = spark.read.csv(stocks_path, header=True)"
   ]
  },
  {
   "cell_type": "code",
   "execution_count": 5,
   "id": "447c99f3",
   "metadata": {},
   "outputs": [],
   "source": [
    "def moving_averge(df, column, moving_range=5):\n",
    "    \"\"\"Calcul la moyenne mobile\n",
    "\n",
    "    Parameters\n",
    "    ----------\n",
    "    df : DataFrame\n",
    "        \n",
    "    column : string\n",
    "        La colonne où on calcule la moyenne mobile\n",
    "    moving_range: int\n",
    "        La portée pour calculer la moyenne mobile. 5 par défaut\n",
    "    delimiter: \n",
    "        Définit un séparateur pour chaque champ et chaque valeur. ; par défaut\n",
    "    Returns\n",
    "    -------\n",
    "    DataFrame\n",
    "        Le DataFrame avec la colonne moving_average\n",
    "    \"\"\"\n",
    "    check = df.select(col(column), col(column).cast(\"int\").isNotNull().alias(\"Value\")).select(\"Value\").collect()\n",
    "    if_all_true = all(e for e in check)\n",
    "    if (if_all_true):\n",
    "        w = (Window.orderBy(functions.col(\"Date\")).rowsBetween(-moving_range, 0))\n",
    "        df = df.withColumn('moving_average', functions.avg(column).over(w))\n",
    "        return df\n",
    "    return df"
   ]
  },
  {
   "cell_type": "code",
   "execution_count": 6,
   "id": "f267854f",
   "metadata": {},
   "outputs": [
    {
     "data": {
      "text/plain": [
       "['Date', 'High', 'Low', 'Open', 'Close', 'Volume', 'Adj Close', 'company_name']"
      ]
     },
     "execution_count": 6,
     "metadata": {},
     "output_type": "execute_result"
    }
   ],
   "source": [
    "df.columns"
   ]
  },
  {
   "cell_type": "code",
   "execution_count": 7,
   "id": "f84008e4",
   "metadata": {},
   "outputs": [
    {
     "name": "stderr",
     "output_type": "stream",
     "text": [
      "22/05/11 18:38:57 WARN WindowExec: No Partition Defined for Window operation! Moving all data to a single partition, this can cause serious performance degradation.\n",
      "22/05/11 18:38:57 WARN WindowExec: No Partition Defined for Window operation! Moving all data to a single partition, this can cause serious performance degradation.\n",
      "22/05/11 18:38:57 WARN WindowExec: No Partition Defined for Window operation! Moving all data to a single partition, this can cause serious performance degradation.\n"
     ]
    },
    {
     "name": "stdout",
     "output_type": "stream",
     "text": [
      "+----------+------------------+------------------+\n",
      "|      Date|              Open|    moving_average|\n",
      "+----------+------------------+------------------+\n",
      "|2017-01-03|62.790000915527344|62.790000915527344|\n",
      "|2017-01-04| 62.47999954223633|62.635000228881836|\n",
      "|2017-01-05|62.189998626708984| 62.48666636149088|\n",
      "|2017-01-06| 62.29999923706055|  62.4399995803833|\n",
      "|2017-01-09|  62.7599983215332| 62.50399932861328|\n",
      "|2017-01-10| 62.72999954223633| 62.54166603088379|\n",
      "|2017-01-11| 62.61000061035156| 62.51166598002116|\n",
      "|2017-01-12|63.060001373291016| 62.60833295186361|\n",
      "|2017-01-13|62.619998931884766|62.679999669392906|\n",
      "|2017-01-17| 62.68000030517578|62.743333180745445|\n",
      "|2017-01-18| 62.66999816894531|62.728333155314125|\n",
      "|2017-01-19|  62.2400016784668|62.646666844685875|\n",
      "|2017-01-20| 62.66999816894531| 62.65666643778483|\n",
      "|2017-01-23| 62.70000076293945| 62.59666633605957|\n",
      "|2017-01-24| 63.20000076293945|62.693333307902016|\n",
      "|2017-01-25| 63.95000076293945| 62.90500005086263|\n",
      "|2017-01-26| 64.12000274658203| 63.14666748046875|\n",
      "|2017-01-27| 65.38999938964844| 63.67166709899902|\n",
      "|2017-01-30| 65.69000244140625| 64.17500114440918|\n",
      "|2017-01-31| 64.86000061035156| 64.53500111897786|\n",
      "+----------+------------------+------------------+\n",
      "only showing top 20 rows\n",
      "\n"
     ]
    }
   ],
   "source": [
    "moving_averge(df, 'Open').select('Date', 'Open', 'moving_average').show()"
   ]
  },
  {
   "cell_type": "code",
   "execution_count": 8,
   "id": "63663a5e",
   "metadata": {},
   "outputs": [],
   "source": [
    "def corr_with(df1, df2):\n",
    "    df2_pd = df2.toPandas()\n",
    "    df1_pd = df1.toPandas()\n",
    "     \n",
    "    df1_name = df1_pd.iloc[0, -1]\n",
    "    df2_name = df2_pd.iloc[0, -1]\n",
    "    \n",
    "    df1_pd = df1_pd.drop(columns=['Date', 'company_name'])\n",
    "    df2_pd = df2_pd.drop(columns=['Date', 'company_name'])\n",
    "    \n",
    "    cols_1 = df1_pd.columns\n",
    "    cols_2 = df2_pd.columns\n",
    "    \n",
    "    df1_pd[cols_1] = df1_pd[cols_1].apply(pd.to_numeric, errors='coerce', axis=1)\n",
    "    df2_pd[cols_2] = df2_pd[cols_2].apply(pd.to_numeric, errors='coerce', axis=1)\n",
    "\n",
    "    new_cols_1 = [col + ' ' + df1_name for col in cols_1]\n",
    "    new_cols_2 = [col + ' ' + df2_name for col in cols_2]\n",
    "    df1_pd.columns = new_cols_1\n",
    "    df2_pd.columns = new_cols_2\n",
    "    \n",
    "    corr = pd.concat([df1_pd,df2_pd],axis=1).corr()\n",
    "    corr = corr.loc[new_cols_1, new_cols_2]\n",
    "    \n",
    "    fig=plt.figure()\n",
    "    ax=fig.add_subplot(111)\n",
    "    ax.set_title(\"Correlation Matrix\")\n",
    "    ax.set_xticklabels(['']+new_cols_1, rotation=90, ha='left')\n",
    "    ax.set_yticklabels(['']+new_cols_2)\n",
    "    cax=ax.matshow(corr,vmax=1,vmin=-1)\n",
    "    fig.colorbar(cax)\n",
    "    #plt.xticks(rotation=90)\n",
    "    plt.show()"
   ]
  },
  {
   "cell_type": "code",
   "execution_count": 9,
   "id": "22d57c4f",
   "metadata": {},
   "outputs": [],
   "source": [
    "df2 = spark.read.csv('stocks_data/AMAZON.csv', header=True)"
   ]
  },
  {
   "cell_type": "code",
   "execution_count": 10,
   "id": "a2ef4037",
   "metadata": {},
   "outputs": [
    {
     "name": "stderr",
     "output_type": "stream",
     "text": [
      "/tmp/ipykernel_9050/2317384631.py:28: UserWarning: FixedFormatter should only be used together with FixedLocator\n",
      "  ax.set_xticklabels(['']+new_cols_1, rotation=90, ha='left')\n",
      "/tmp/ipykernel_9050/2317384631.py:29: UserWarning: FixedFormatter should only be used together with FixedLocator\n",
      "  ax.set_yticklabels(['']+new_cols_2)\n"
     ]
    },
    {
     "data": {
      "image/png": "[encoded data removed]",
      "text/plain": [
       "<Figure size 432x288 with 2 Axes>"
      ]
     },
     "metadata": {
      "needs_background": "light"
     },
     "output_type": "display_data"
    }
   ],
   "source": [
    "corr = corr_with(df, df2)\n",
    "corr"
   ]
  },
  {
   "cell_type": "code",
   "execution_count": 68,
   "id": "525298fc",
   "metadata": {},
   "outputs": [],
   "source": [
    "import datetime\n",
    "\n",
    "def validate(date_text):\n",
    "    try:\n",
    "        datetime.datetime.strptime(date_text, '%Y-%m-%d')\n",
    "    except ValueError:\n",
    "        raise ValueError(\"Incorrect date format, should be YYYY-MM-DD\")\n",
    "\n",
    "\n",
    "def RoR(df, date, period):\n",
    "    \n",
    "    # Check date format\n",
    "    validate(date)\n",
    "    \n",
    "    # Parse date and manage errors\n",
    "    originalDate = datetime.datetime.strptime(date, \"%Y-%m-%d\")\n",
    "    currentDate = originalDate\n",
    "    \n",
    "    # Parse period and manage errors\n",
    "    if period == \"week\":\n",
    "        currentDate += datetime.timedelta(days=7)  \n",
    "    elif period == \"month\":\n",
    "        currentDate += datetime.timedelta(days=30)\n",
    "    elif period == \"year\":\n",
    "        currentDate += datetime.timedelta(days=365)\n",
    "    else:\n",
    "        raise ValueError(\"Incorrect period format, expected week, month or year\")\n",
    "   \n",
    "\n",
    "    tmp = df.select(col(\"Date\"), col(\"Open\"))\n",
    "    \n",
    "    # Get rows and manage errors\n",
    "    originalRow = tmp.filter(col(\"Date\") == originalDate).first()\n",
    "    if(originalRow == None):\n",
    "        raise ValueError(\"Incorrect date:\", originalDate.strftime(\"%Y-%m-%d\"))\n",
    "    \n",
    "    currentRow = tmp.filter(col(\"Date\") == currentDate).first()\n",
    "    if(currentRow == None):\n",
    "        raise ValueError(\"Incorrect date:\", currentDate.strftime(\"%Y-%m-%d\"))\n",
    "    \n",
    "    # Get values\n",
    "    originalVal = float(originalRow.__getitem__('Open'))\n",
    "    currentValue = float(currentRow.__getitem__('Open'))\n",
    "    \n",
    "    # Return the calcul\n",
    "    return (currentValue - originalVal) / originalVal * 100\n",
    "\n"
   ]
  },
  {
   "cell_type": "code",
   "execution_count": 69,
   "id": "a300eda9",
   "metadata": {},
   "outputs": [
    {
     "name": "stdout",
     "output_type": "stream",
     "text": [
      "-0.09555880301982586\n",
      "0.7325992638405951\n",
      "37.06003552121619\n"
     ]
    }
   ],
   "source": [
    "print(RoR(df, \"2017-01-03\", \"week\"))\n",
    "print(RoR(df, \"2017-01-03\", \"month\"))\n",
    "print(RoR(df, \"2017-01-03\", \"year\"))"
   ]
  },
  {
   "cell_type": "code",
   "execution_count": 88,
   "id": "e0edfb34",
   "metadata": {},
   "outputs": [
    {
     "name": "stdout",
     "output_type": "stream",
     "text": [
      "('2017-01-30', 4.618572198749188)\n"
     ]
    }
   ],
   "source": [
    "from pyspark.sql.functions import lit, expr, desc\n",
    "\n",
    "def bestRoR(df, date, period):\n",
    "    \n",
    "    # Check date format\n",
    "    validate(date)\n",
    "    \n",
    "    # Parse date and manage errors\n",
    "    originalDate = datetime.datetime.strptime(date, \"%Y-%m-%d\")\n",
    "    currentDate = originalDate\n",
    "    \n",
    "    # Parse period and manage errors\n",
    "    if period == \"month\":\n",
    "        currentDate += datetime.timedelta(days=30)\n",
    "    elif period == \"year\":\n",
    "        currentDate += datetime.timedelta(days=365)\n",
    "    else:\n",
    "        raise ValueError(\"Incorrect period format, expected month or year\")\n",
    "    \n",
    "    tmp = df.select(col(\"Date\"), col(\"Open\"))\n",
    "    \n",
    "    \n",
    "    # Get originalRow and manage errors\n",
    "    originalRow = tmp.filter(col(\"Date\") == originalDate).first()\n",
    "    if(originalRow == None):\n",
    "        raise ValueError(\"Incorrect date:\", originalDate.strftime(\"%Y-%m-%d\"))\n",
    "        \n",
    "    # Get original values\n",
    "    originalVal = float(originalRow.__getitem__('Open'))\n",
    "    \n",
    "    \n",
    "    # Get the period rows and add a column corresponding to the RoR\n",
    "    tmp = tmp.where(col(\"Date\") > originalDate) \\\n",
    "        .where(col(\"Date\") <= currentDate) \\\n",
    "        .withColumn(\"originalVal\", lit(originalVal)) \\\n",
    "        .select(\"Date\", expr(\"((Open - originalVal) / originalVal * 100) as RoR\"))\n",
    "    \n",
    "    # Get the row with the highter\n",
    "    bestRoRRow = tmp.orderBy(desc(\"RoR\")).first()\n",
    "    \n",
    "    \n",
    "    # Return the tupple (Date, RoR)\n",
    "    return (bestRoRRow.__getitem__('Date'), bestRoRRow.__getitem__('RoR'))\n",
    "    \n"
   ]
  },
  {
   "cell_type": "code",
   "execution_count": null,
   "id": "c252d113",
   "metadata": {},
   "outputs": [],
   "source": [
    "print(bestRoR(df, \"2017-01-03\", \"month\"))"
   ]
  },
  {
   "cell_type": "code",
   "execution_count": null,
   "id": "04afc965",
   "metadata": {},
   "outputs": [],
   "source": []
  }
 ],
 "metadata": {
  "kernelspec": {
   "display_name": "Python 3 (ipykernel)",
   "language": "python",
   "name": "python3"
  },
  "language_info": {
   "codemirror_mode": {
    "name": "ipython",
    "version": 3
   },
   "file_extension": ".py",
   "mimetype": "text/x-python",
   "name": "python",
   "nbconvert_exporter": "python",
   "pygments_lexer": "ipython3",
   "version": "3.10.4"
  }
 },
 "nbformat": 4,
 "nbformat_minor": 5
}
