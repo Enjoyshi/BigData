{
 "cells": [
  {
   "cell_type": "code",
   "execution_count": 5,
   "id": "c5223295",
   "metadata": {},
   "outputs": [],
   "source": [
    "from pyspark.sql import SparkSession\n",
    "from pyspark.sql.types import *\n",
    "import functools\n",
    "from pyspark.ml import Pipeline\n",
    "from pyspark.ml.evaluation import RegressionEvaluator\n",
    "from pyspark.ml.feature import OneHotEncoder, VectorAssembler, StringIndexer\n",
    "from pyspark.ml.regression import DecisionTreeRegressor, RandomForestRegressor\n",
    "from pyspark.sql import SparkSession\n",
    "from pyspark.sql import functions as F\n",
    "from pyspark.sql.window import Window\n",
    "from pyspark.sql.functions import percent_rank, col"
   ]
  },
  {
   "cell_type": "code",
   "execution_count": 6,
   "id": "c075c7d9",
   "metadata": {},
   "outputs": [],
   "source": [
    "spark_application_name = \"Spark_Project_ML\"\n",
    "spark = (SparkSession.builder.appName(spark_application_name).getOrCreate())\n",
    "spark.conf.set('spark.sql.repl.eagerEval.enabled', True)"
   ]
  },
  {
   "cell_type": "code",
   "execution_count": 7,
   "id": "1c8f2722",
   "metadata": {},
   "outputs": [],
   "source": [
    "def get_data(path, schema, header=True, delimiter=';'):\n",
    "    \"\"\"Get datas from path\n",
    "\n",
    "    Parameters\n",
    "    ----------\n",
    "    path : string\n",
    "        file location\n",
    "    schema : StructType\n",
    "        Schema for dataframe\n",
    "    header: bool\n",
    "        Take the header or not, default True\n",
    "    delimiter: \n",
    "        the delimiter of the input file, default ;\n",
    "    Returns\n",
    "    -------\n",
    "        DataFrame\n",
    "    \"\"\"\n",
    "    \n",
    "    extension = path.split('.')[-1]\n",
    "    if (extension == \"csv\"):\n",
    "        df = spark.read.csv(path, schema, header=header, sep=delimiter)\n",
    "    elif (extension == 'json'):\n",
    "        df = spark.read.json(path, schema)\n",
    "    else:\n",
    "        # join all csv in a folder\n",
    "        df = spark.read.csv(path, schema, header=header, sep=delimiter)\n",
    "    return df"
   ]
  },
  {
   "cell_type": "code",
   "execution_count": 8,
   "id": "c774f5f3",
   "metadata": {},
   "outputs": [],
   "source": [
    "microsoft_path = 'stocks_data/MICROSOFT.csv'\n",
    "amazon_path = 'stocks_data/AMAZON.csv'\n",
    "zoom_path = 'stocks_data/ZOOM.csv'\n",
    "facebook_path = 'stocks_data/FACEBOOK.csv'\n",
    "apple_path = 'stocks_data/APPLE.csv'\n",
    "google_path = 'stocks_data/GOOGLE.csv'\n",
    "tesla_path = 'stocks_data/TESLA.csv'\n",
    "\n",
    "\n",
    "stocksColumns = [StructField(\"Date\",TimestampType()), StructField(\"High\",DoubleType()), \n",
    "              StructField(\"Low\",DoubleType()), StructField(\"Open\",DoubleType()),\n",
    "              StructField(\"Close\",DoubleType()), StructField(\"Volume\", DoubleType()), \n",
    "              StructField(\"Adj Close\",DoubleType()), StructField(\"company_name\", StringType())]\n",
    "\n",
    "stocksSchema = StructType(stocksColumns)\n",
    "\n",
    "\n",
    "microsoft = get_data(microsoft_path, stocksSchema, delimiter=',').drop(col(\"company_name\"))\n",
    "amazon = get_data(amazon_path, stocksSchema, delimiter=',').drop(col(\"company_name\"))\n",
    "zoom = get_data(zoom_path, stocksSchema, delimiter=',').drop(col(\"company_name\"))\n",
    "facebook = get_data(facebook_path, stocksSchema, delimiter=',').drop(col(\"company_name\"))\n",
    "apple = get_data(apple_path, stocksSchema, delimiter=',').drop(col(\"company_name\"))\n",
    "google = get_data(google_path, stocksSchema, delimiter=',').drop(col(\"company_name\"))\n",
    "tesla = get_data(tesla_path, stocksSchema, delimiter=',').drop(col(\"company_name\"))"
   ]
  },
  {
   "cell_type": "code",
   "execution_count": 9,
   "id": "ad86c3ca",
   "metadata": {},
   "outputs": [],
   "source": [
    "w = Window.partitionBy().orderBy(\"Date\")"
   ]
  },
  {
   "cell_type": "code",
   "execution_count": 10,
   "id": "6505f77a",
   "metadata": {},
   "outputs": [],
   "source": [
    "microsoft = microsoft.withColumn('diffOpenClose', microsoft.Open - microsoft.Close)\n",
    "microsoft = microsoft.withColumn('diffHighLow', microsoft.High - microsoft.Low)\n",
    "microsoft = microsoft.withColumn('target', F.when(F.lag(microsoft.Close).over(w) < microsoft.Close, 'yes').otherwise('no'))\n",
    "microsoft.drop('Date')\n",
    "categoricalColumns = ['High', 'Low', 'Open', 'Close']\n",
    "stages = []"
   ]
  },
  {
   "cell_type": "code",
   "execution_count": 11,
   "id": "3c6ca321",
   "metadata": {},
   "outputs": [],
   "source": [
    "for categoricalCol in categoricalColumns:\n",
    "    stringIndexer = StringIndexer(inputCol=categoricalCol, outputCol=categoricalCol + 'Index')\n",
    "    encoder = OneHotEncoder(inputCols=[stringIndexer.getOutputCol()], outputCols=[categoricalCol + \"classVec\"])\n",
    "    stages += [stringIndexer, encoder]"
   ]
  },
  {
   "cell_type": "code",
   "execution_count": 12,
   "id": "be3319bd",
   "metadata": {},
   "outputs": [],
   "source": [
    "label_stringIdx = StringIndexer(inputCol='target', outputCol='label')\n",
    "stages += [label_stringIdx]"
   ]
  },
  {
   "cell_type": "code",
   "execution_count": 13,
   "id": "0409adb8",
   "metadata": {},
   "outputs": [],
   "source": [
    "assembler = VectorAssembler(inputCols=[c + \"classVec\" for c in categoricalColumns], outputCol=\"features\")\n",
    "stages += [assembler]"
   ]
  },
  {
   "cell_type": "code",
   "execution_count": 14,
   "id": "3fa48913",
   "metadata": {},
   "outputs": [
    {
     "name": "stderr",
     "output_type": "stream",
     "text": [
      "22/05/30 19:03:08 WARN WindowExec: No Partition Defined for Window operation! Moving all data to a single partition, this can cause serious performance degradation.\n",
      "22/05/30 19:03:08 WARN WindowExec: No Partition Defined for Window operation! Moving all data to a single partition, this can cause serious performance degradation.\n"
     ]
    }
   ],
   "source": [
    "pipeline = Pipeline(stages=stages)\n",
    "pipelineModel = pipeline.fit(microsoft)\n",
    "microsoft = pipelineModel.transform(microsoft)"
   ]
  },
  {
   "cell_type": "code",
   "execution_count": 15,
   "id": "4eacd430",
   "metadata": {},
   "outputs": [
    {
     "name": "stderr",
     "output_type": "stream",
     "text": [
      "22/05/30 19:03:09 WARN WindowExec: No Partition Defined for Window operation! Moving all data to a single partition, this can cause serious performance degradation.\n",
      "22/05/30 19:03:09 WARN WindowExec: No Partition Defined for Window operation! Moving all data to a single partition, this can cause serious performance degradation.\n",
      "22/05/30 19:03:09 WARN WindowExec: No Partition Defined for Window operation! Moving all data to a single partition, this can cause serious performance degradation.\n"
     ]
    },
    {
     "name": "stdout",
     "output_type": "stream",
     "text": [
      "+------------------+-----+--------------------+\n",
      "|             Close|label|            features|\n",
      "+------------------+-----+--------------------+\n",
      "| 62.58000183105469|  1.0|(3736,[612,1543,2...|\n",
      "| 62.29999923706055|  1.0|(3736,[610,963,24...|\n",
      "| 62.29999923706055|  1.0|(3736,[609,962,24...|\n",
      "| 62.84000015258789|  0.0|(3736,[618,1542,2...|\n",
      "| 62.63999938964844|  1.0|(3736,[616,1549,2...|\n",
      "|62.619998931884766|  1.0|(3736,[615,1545,2...|\n",
      "|63.189998626708984|  0.0|(3736,[619,1548,2...|\n",
      "| 62.61000061035156|  1.0|(3736,[620,1541,2...|\n",
      "| 62.70000076293945|  0.0|(3736,[613,1546,2...|\n",
      "|62.529998779296875|  1.0|(3736,[35,962,249...|\n",
      "|              62.5|  1.0|(3736,[35,963,188...|\n",
      "| 62.29999923706055|  1.0|(3736,[614,1544,2...|\n",
      "|  62.7400016784668|  0.0|(3736,[611,1547,1...|\n",
      "|62.959999084472656|  0.0|(3736,[617,1550,2...|\n",
      "| 63.52000045776367|  0.0|(3736,[624,1552,2...|\n",
      "| 63.68000030517578|  0.0|(3736,[627,1558,2...|\n",
      "|  64.2699966430664|  0.0|(3736,[36,1560,18...|\n",
      "| 65.77999877929688|  0.0|(3736,[666,970,18...|\n",
      "| 65.12999725341797|  1.0|(3736,[662,1582,2...|\n",
      "|  64.6500015258789|  1.0|(3736,[650,1570,2...|\n",
      "+------------------+-----+--------------------+\n",
      "only showing top 20 rows\n",
      "\n"
     ]
    }
   ],
   "source": [
    "microsoft.select('Close', 'label', 'features').show()\n",
    "microsoft = microsoft.withColumn(\"rank\", percent_rank().over(w))\n",
    "trainingData = microsoft.where(\"rank <= .8\").drop(\"rank\")\n",
    "testData = microsoft.where(\"rank > .8\").drop(\"rank\")\n",
    "#(trainingData, testData) = microsoft.randomSplit([0.8, 0.2])"
   ]
  },
  {
   "cell_type": "code",
   "execution_count": 16,
   "id": "3d463af3",
   "metadata": {},
   "outputs": [],
   "source": [
    "dr = RandomForestRegressor(labelCol=\"label\", featuresCol=\"features\")"
   ]
  },
  {
   "cell_type": "code",
   "execution_count": 17,
   "id": "3cb34fed",
   "metadata": {},
   "outputs": [
    {
     "name": "stderr",
     "output_type": "stream",
     "text": [
      "22/05/30 19:03:09 WARN WindowExec: No Partition Defined for Window operation! Moving all data to a single partition, this can cause serious performance degradation.\n",
      "22/05/30 19:03:09 WARN WindowExec: No Partition Defined for Window operation! Moving all data to a single partition, this can cause serious performance degradation.\n",
      "22/05/30 19:03:09 WARN WindowExec: No Partition Defined for Window operation! Moving all data to a single partition, this can cause serious performance degradation.\n",
      "22/05/30 19:03:09 WARN WindowExec: No Partition Defined for Window operation! Moving all data to a single partition, this can cause serious performance degradation.\n",
      "22/05/30 19:03:09 WARN WindowExec: No Partition Defined for Window operation! Moving all data to a single partition, this can cause serious performance degradation.\n"
     ]
    },
    {
     "name": "stdout",
     "output_type": "stream",
     "text": [
      "Root Mean Squared Error (RMSE) on test data = 0.496615\n"
     ]
    },
    {
     "name": "stderr",
     "output_type": "stream",
     "text": [
      "22/05/30 19:03:11 WARN WindowExec: No Partition Defined for Window operation! Moving all data to a single partition, this can cause serious performance degradation.\n",
      "22/05/30 19:03:11 WARN WindowExec: No Partition Defined for Window operation! Moving all data to a single partition, this can cause serious performance degradation.\n",
      "22/05/30 19:03:11 WARN WindowExec: No Partition Defined for Window operation! Moving all data to a single partition, this can cause serious performance degradation.\n",
      "22/05/30 19:03:11 WARN WindowExec: No Partition Defined for Window operation! Moving all data to a single partition, this can cause serious performance degradation.\n",
      "22/05/30 19:03:11 WARN WindowExec: No Partition Defined for Window operation! Moving all data to a single partition, this can cause serious performance degradation.\n"
     ]
    }
   ],
   "source": [
    "model = dr.fit(trainingData)\n",
    "predictions = model.transform(testData)\n",
    "\n",
    "evaluator = RegressionEvaluator(labelCol=\"label\", predictionCol=\"prediction\", metricName=\"rmse\")\n",
    "rmse = evaluator.evaluate(predictions)\n",
    "print(\"Root Mean Squared Error (RMSE) on test data = %g\" % rmse)"
   ]
  },
  {
   "cell_type": "code",
   "execution_count": 18,
   "id": "9060d018",
   "metadata": {},
   "outputs": [
    {
     "name": "stdout",
     "output_type": "stream",
     "text": [
      "+--------------------+-----+-------------------+\n",
      "|            features|label|         prediction|\n",
      "+--------------------+-----+-------------------+\n",
      "|(3736,[452,1355,2...|  1.0|0.42209687669355833|\n",
      "|(3736,[454,1367,2...|  1.0|0.42209687669355833|\n",
      "|(3736,[445,1369,2...|  0.0|0.42209687669355833|\n",
      "|(3736,[433,1341,2...|  1.0|0.42209687669355833|\n",
      "|(3736,[424,1321,2...|  0.0|0.42209687669355833|\n",
      "|(3736,[444,1352,2...|  0.0|0.42209687669355833|\n",
      "|(3736,[455,1350,2...|  1.0|0.42209687669355833|\n",
      "|(3736,[441,1363,2...|  0.0|0.42209687669355833|\n",
      "|(3736,[442,958,22...|  1.0|0.42209687669355833|\n",
      "|(3736,[419,1329,2...|  1.0|0.42209687669355833|\n",
      "|(3736,[25,1307,22...|  1.0|0.42209687669355833|\n",
      "|(3736,[416,1323,2...|  0.0|0.42209687669355833|\n",
      "|(3736,[402,1317,2...|  1.0|0.42209687669355833|\n",
      "|(3736,[395,1264,2...|  1.0|0.42209687669355833|\n",
      "|(3736,[417,1280,2...|  0.0|0.42209687669355833|\n",
      "|(3736,[375,935,18...|  1.0|0.42209687669355833|\n",
      "|(3736,[372,935,18...|  0.0|0.42209687669355833|\n",
      "|(3736,[368,1221,2...|  1.0|0.42209687669355833|\n",
      "|(3736,[380,1268,2...|  0.0|0.42209687669355833|\n",
      "|(3736,[370,1233,2...|  1.0|0.42209687669355833|\n",
      "|(3736,[344,1201,2...|  1.0|0.42209687669355833|\n",
      "|(3736,[377,1281,2...|  0.0|0.42209687669355833|\n",
      "|(3736,[396,1292,2...|  1.0|0.42209687669355833|\n",
      "|(3736,[400,1300,2...|  0.0|0.42209687669355833|\n",
      "|(3736,[23,957,225...|  1.0|0.42209687669355833|\n",
      "|(3736,[413,1308,2...|  0.0|0.42209687669355833|\n",
      "|(3736,[426,1333,2...|  1.0|0.42209687669355833|\n",
      "|(3736,[25,1314,18...|  1.0|0.42209687669355833|\n",
      "|(3736,[24,1312,22...|  0.0|0.42209687669355833|\n",
      "|(3736,[401,1322,2...|  1.0|0.42209687669355833|\n",
      "|(3736,[430,1339,2...|  0.0|0.42209687669355833|\n",
      "|(3736,[440,1356,2...|  1.0|0.42209687669355833|\n",
      "|(3736,[431,1358,2...|  0.0|0.42209687669355833|\n",
      "|(3736,[434,1357,2...|  0.0|0.42209687669355833|\n",
      "|(3736,[427,1351,1...|  0.0|0.42209687669355833|\n",
      "|(3736,[448,1368,2...|  0.0|0.42209687669355833|\n",
      "|(3736,[446,1370,2...|  1.0|0.42209687669355833|\n",
      "|(3736,[459,1379,2...|  0.0|0.42209687669355833|\n",
      "|(3736,[464,1385,2...|  0.0|0.42209687669355833|\n",
      "|(3736,[462,1383,2...|  1.0|0.42209687669355833|\n",
      "|(3736,[447,1365,2...|  1.0|0.42209687669355833|\n",
      "|(3736,[449,1376,2...|  0.0|0.42209687669355833|\n",
      "|(3736,[456,1377,2...|  1.0|0.42209687669355833|\n",
      "|(3736,[453,1374,2...|  0.0|0.42209687669355833|\n",
      "|(3736,[458,1380,2...|  1.0|0.42209687669355833|\n",
      "|(3736,[457,1371,2...|  1.0|0.42209687669355833|\n",
      "|(3736,[460,1378,2...|  0.0|0.42209687669355833|\n",
      "|(3736,[465,1386,2...|  0.0|0.42209687669355833|\n",
      "|(3736,[461,1382,2...|  1.0|0.42209687669355833|\n",
      "|(3736,[463,1381,2...|  0.0|0.42209687669355833|\n",
      "|(3736,[471,1393,2...|  0.0|0.42209687669355833|\n",
      "|(3736,[26,1399,23...|  0.0|0.42209687669355833|\n",
      "|(3736,[477,1404,2...|  0.0|0.42209687669355833|\n",
      "|(3736,[27,1410,23...|  0.0|0.42209687669355833|\n",
      "|(3736,[490,1406,2...|  0.0|0.42209687669355833|\n",
      "|(3736,[487,960,23...|  1.0|0.42209687669355833|\n",
      "|(3736,[473,1388,2...|  1.0|0.42209687669355833|\n",
      "|(3736,[467,1384,2...|  0.0|0.42209687669355833|\n",
      "|(3736,[488,1390,2...|  0.0|0.42209687669355833|\n",
      "|(3736,[482,1415,2...|  0.0|0.42209687669355833|\n",
      "|(3736,[485,1411,2...|  1.0|0.42209687669355833|\n",
      "|(3736,[28,1414,23...|  0.0|0.42209687669355833|\n",
      "|(3736,[486,1409,2...|  1.0|0.42209687669355833|\n",
      "|(3736,[476,1403,2...|  0.0|0.42209687669355833|\n",
      "|(3736,[484,959,23...|  1.0|0.42209687669355833|\n",
      "|(3736,[468,1389,2...|  0.0|0.42209687669355833|\n",
      "|(3736,[474,1395,2...|  1.0|0.42209687669355833|\n",
      "|(3736,[475,1396,2...|  0.0|0.42209687669355833|\n",
      "|(3736,[469,1398,2...|  1.0|0.42209687669355833|\n",
      "|(3736,[27,1397,23...|  0.0|0.42209687669355833|\n",
      "|(3736,[481,1413,2...|  0.0|0.42209687669355833|\n",
      "|(3736,[480,960,23...|  1.0|0.42209687669355833|\n",
      "|(3736,[492,1401,2...|  0.0|0.42209687669355833|\n",
      "|(3736,[494,1417,2...|  0.0|0.42209687669355833|\n",
      "|(3736,[29,1422,23...|  0.0|0.42209687669355833|\n",
      "|(3736,[502,1423,2...|  0.0|0.42209687669355833|\n",
      "|(3736,[499,1420,2...|  1.0|0.42209687669355833|\n",
      "|(3736,[497,1418,2...|  0.0|0.42209687669355833|\n",
      "|(3736,[496,1416,2...|  0.0|0.42209687669355833|\n",
      "|(3736,[498,1424,2...|  0.0|0.42209687669355833|\n",
      "|(3736,[500,1426,2...|  0.0|0.42209687669355833|\n",
      "|(3736,[501,1427,2...|  0.0|0.42209687669355833|\n",
      "|(3736,[504,1428,2...|  1.0|0.42209687669355833|\n",
      "|(3736,[507,1430,2...|  0.0|0.42209687669355833|\n",
      "|(3736,[512,1447,2...|  0.0|0.42209687669355833|\n",
      "|(3736,[510,1434,2...|  1.0|0.42209687669355833|\n",
      "|(3736,[506,1431,2...|  0.0|0.42209687669355833|\n",
      "|(3736,[505,1429,2...|  1.0|0.42209687669355833|\n",
      "|(3736,[503,1425,2...|  0.0|0.42209687669355833|\n",
      "|(3736,[516,1436,2...|  0.0|0.42209687669355833|\n",
      "|(3736,[525,1449,2...|  0.0|0.42209687669355833|\n",
      "|(3736,[528,1467,2...|  0.0|0.42209687669355833|\n",
      "|(3736,[546,1483,2...|  0.0|0.42209687669355833|\n",
      "|(3736,[33,1480,24...|  1.0|0.42209687669355833|\n",
      "|(3736,[556,1489,2...|  0.0|0.42209687669355833|\n",
      "|(3736,[579,1505,2...|  0.0|0.42209687669355833|\n",
      "|(3736,[560,1502,2...|  1.0|0.42209687669355833|\n",
      "|(3736,[571,1472,2...|  1.0|0.42209687669355833|\n",
      "|(3736,[532,1451,2...|  0.0|0.42209687669355833|\n",
      "|(3736,[547,1468,2...|  1.0|0.42209687669355833|\n",
      "|(3736,[524,1456,2...|  1.0|0.42209687669355833|\n",
      "|(3736,[520,1446,2...|  1.0|0.42209687669355833|\n",
      "|(3736,[32,1458,23...|  0.0|0.42209687669355833|\n",
      "|(3736,[558,1481,2...|  1.0|0.42209687669355833|\n",
      "|(3736,[32,1488,24...|  0.0|0.42209687669355833|\n",
      "|(3736,[544,1454,2...|  1.0|0.42209687669355833|\n",
      "|(3736,[509,1435,2...|  1.0|0.42209687669355833|\n",
      "|(3736,[513,1444,2...|  0.0|0.42209687669355833|\n",
      "|(3736,[519,1448,2...|  1.0|0.42209687669355833|\n",
      "|(3736,[518,1450,2...|  0.0|0.42209687669355833|\n",
      "|(3736,[517,1439,2...|  1.0|0.42209687669355833|\n",
      "|(3736,[521,1437,2...|  0.0|0.42209687669355833|\n",
      "|(3736,[586,1500,2...|  0.0|0.42209687669355833|\n",
      "|(3736,[564,1498,2...|  1.0|0.42209687669355833|\n",
      "|(3736,[34,1507,24...|  1.0|0.42209687669355833|\n",
      "|(3736,[578,1506,2...|  0.0|0.42209687669355833|\n",
      "|(3736,[570,961,18...|  1.0|0.42209687669355833|\n",
      "|(3736,[549,1471,2...|  1.0|0.42209687669355833|\n",
      "|(3736,[527,1460,2...|  1.0|0.42209687669355833|\n",
      "|(3736,[541,1465,2...|  0.0|0.42209687669355833|\n",
      "|(3736,[548,1485,2...|  1.0|0.42209687669355833|\n",
      "|(3736,[535,1479,2...|  0.0|0.42209687669355833|\n",
      "|(3736,[31,1492,24...|  0.0|0.42209687669355833|\n",
      "|(3736,[553,1493,2...|  0.0|0.42209687669355833|\n",
      "|(3736,[551,1494,2...|  1.0|0.42209687669355833|\n",
      "|(3736,[34,1491,24...|  0.0|0.42209687669355833|\n",
      "|(3736,[574,1514,2...|  1.0|0.42209687669355833|\n",
      "|(3736,[569,1511,2...|  0.0|0.42209687669355833|\n",
      "|(3736,[581,1516,2...|  0.0|0.42209687669355833|\n",
      "|(3736,[594,1529,2...|  0.0|0.42209687669355833|\n",
      "|(3736,[607,1534,2...|  0.0|0.42209687669355833|\n",
      "|(3736,[606,1539,2...|  0.0|0.42209687669355833|\n",
      "|(3736,[604,1537,2...|  1.0|0.42209687669355833|\n",
      "|(3736,[602,1538,2...|  0.0|0.42209687669355833|\n",
      "|(3736,[608,1540,2...|  0.0|0.42209687669355833|\n",
      "|(3736,[605,1526,2...|  1.0|0.42209687669355833|\n",
      "|(3736,[591,1469,2...|  1.0|0.42209687669355833|\n",
      "|(3736,[537,1455,2...|  1.0|0.42209687669355833|\n",
      "|(3736,[565,1474,2...|  0.0|0.42209687669355833|\n",
      "|(3736,[562,1463,2...|  1.0|0.42209687669355833|\n",
      "|(3736,[530,1445,2...|  1.0|0.42209687669355833|\n",
      "|(3736,[534,1462,2...|  0.0|0.42209687669355833|\n",
      "|(3736,[536,1477,2...|  0.0|0.42209687669355833|\n",
      "|(3736,[543,1464,2...|  1.0|0.42209687669355833|\n",
      "|(3736,[515,1441,2...|  1.0|0.42209687669355833|\n",
      "|(3736,[511,1432,2...|  1.0|0.42209687669355833|\n",
      "|(3736,[508,1433,2...|  0.0|0.42209687669355833|\n",
      "|(3736,[30,1452,23...|  0.0|0.42209687669355833|\n",
      "|(3736,[30,1442,24...|  1.0|0.42209687669355833|\n",
      "|(3736,[523,1438,2...|  0.0|0.42209687669355833|\n",
      "|(3736,[533,1457,2...|  0.0|0.42209687669355833|\n",
      "|(3736,[554,1482,2...|  0.0|0.42209687669355833|\n",
      "|(3736,[538,1476,2...|  1.0|0.42209687669355833|\n",
      "|(3736,[550,1473,2...|  0.0|0.42209687669355833|\n",
      "|(3736,[559,1504,2...|  0.0|0.42209687669355833|\n",
      "|(3736,[545,1470,2...|  1.0|0.42209687669355833|\n",
      "|(3736,[542,1478,2...|  0.0|0.42209687669355833|\n",
      "|(3736,[540,1466,2...|  1.0|0.42209687669355833|\n",
      "|(3736,[539,1475,2...|  0.0|0.42209687669355833|\n",
      "|(3736,[31,1487,24...|  0.0|0.42209687669355833|\n",
      "|(3736,[572,1503,2...|  0.0|0.42209687669355833|\n",
      "|(3736,[597,1528,2...|  0.0|0.42209687669355833|\n",
      "|(3736,[601,1535,2...|  0.0|0.42209687669355833|\n",
      "|(3736,[599,1532,2...|  1.0|0.42209687669355833|\n",
      "|(3736,[593,1527,2...|  1.0|0.42209687669355833|\n",
      "|(3736,[595,1533,2...|  1.0|0.42209687669355833|\n",
      "|(3736,[596,1520,2...|  1.0|0.42209687669355833|\n",
      "|(3736,[584,1515,2...|  0.0|0.42209687669355833|\n",
      "|(3736,[582,1517,2...|  0.0|0.42209687669355833|\n",
      "|(3736,[573,1508,2...|  0.0|0.42209687669355833|\n",
      "|(3736,[576,1518,2...|  0.0|0.42209687669355833|\n",
      "|(3736,[577,1484,2...|  1.0|0.42209687669355833|\n",
      "|(3736,[33,1499,24...|  0.0|0.42209687669355833|\n",
      "|(3736,[531,1453,2...|  1.0|0.42209687669355833|\n",
      "|(3736,[526,1461,2...|  0.0|0.42209687669355833|\n",
      "|(3736,[514,1440,2...|  1.0|0.42209687669355833|\n",
      "|(3736,[522,1443,2...|  1.0|0.42209687669355833|\n",
      "|(3736,[529,1459,2...|  0.0|0.42209687669355833|\n",
      "|(3736,[590,1510,2...|  0.0|0.42209687669355833|\n",
      "|(3736,[598,1536,2...|  0.0|0.42209687669355833|\n",
      "|(3736,[600,1531,2...|  0.0|0.42209687669355833|\n",
      "|(3736,[603,1530,2...|  1.0|0.42209687669355833|\n",
      "|(3736,[580,1495,2...|  1.0|0.42209687669355833|\n",
      "|(3736,[589,1509,2...|  0.0|0.42209687669355833|\n",
      "|(3736,[592,1524,2...|  1.0|0.42209687669355833|\n",
      "|(3736,[585,1523,2...|  0.0|0.42209687669355833|\n",
      "|(3736,[588,1525,2...|  0.0|0.42209687669355833|\n",
      "|(3736,[587,1522,2...|  1.0|0.42209687669355833|\n",
      "|(3736,[567,961,24...|  1.0|0.42209687669355833|\n",
      "|(3736,[555,1496,2...|  0.0|0.42209687669355833|\n",
      "|(3736,[557,1497,2...|  1.0|0.42209687669355833|\n",
      "|(3736,[552,1486,2...|  1.0|0.42209687669355833|\n",
      "|(3736,[561,1490,2...|  0.0|0.42209687669355833|\n",
      "|(3736,[568,1512,2...|  0.0|0.42209687669355833|\n",
      "|(3736,[575,1521,1...|  0.0|0.42209687669355833|\n",
      "|(3736,[563,1501,2...|  1.0|0.42209687669355833|\n",
      "|(3736,[583,1519,2...|  0.0|0.42209687669355833|\n",
      "|(3736,[566,1513,2...|  1.0|0.42209687669355833|\n",
      "+--------------------+-----+-------------------+\n",
      "\n"
     ]
    },
    {
     "name": "stderr",
     "output_type": "stream",
     "text": [
      "22/05/30 19:03:14 WARN WindowExec: No Partition Defined for Window operation! Moving all data to a single partition, this can cause serious performance degradation.\n",
      "22/05/30 19:03:14 WARN WindowExec: No Partition Defined for Window operation! Moving all data to a single partition, this can cause serious performance degradation.\n",
      "22/05/30 19:03:14 WARN WindowExec: No Partition Defined for Window operation! Moving all data to a single partition, this can cause serious performance degradation.\n",
      "22/05/30 19:03:14 WARN WindowExec: No Partition Defined for Window operation! Moving all data to a single partition, this can cause serious performance degradation.\n",
      "22/05/30 19:03:14 WARN WindowExec: No Partition Defined for Window operation! Moving all data to a single partition, this can cause serious performance degradation.\n"
     ]
    }
   ],
   "source": [
    "predictions.select(\"features\", \"label\", \"prediction\").show(1000)"
   ]
  },
  {
   "cell_type": "code",
   "execution_count": null,
   "id": "7ee4822b",
   "metadata": {},
   "outputs": [],
   "source": []
  }
 ],
 "metadata": {
  "kernelspec": {
   "display_name": "Python 3 (ipykernel)",
   "language": "python",
   "name": "python3"
  },
  "language_info": {
   "codemirror_mode": {
    "name": "ipython",
    "version": 3
   },
   "file_extension": ".py",
   "mimetype": "text/x-python",
   "name": "python",
   "nbconvert_exporter": "python",
   "pygments_lexer": "ipython3",
   "version": "3.9.12"
  }
 },
 "nbformat": 4,
 "nbformat_minor": 5
}
